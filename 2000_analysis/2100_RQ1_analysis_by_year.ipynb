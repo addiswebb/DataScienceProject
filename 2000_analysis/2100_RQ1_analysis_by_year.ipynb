{
 "cells": [
  {
   "cell_type": "code",
   "execution_count": 75,
   "id": "2caa7b51-7dd3-4869-9ae9-d5106128b42a",
   "metadata": {
    "tags": []
   },
   "outputs": [],
   "source": [
    "import pandas as pd\n",
    "import geopandas as gpd\n",
    "import plotly.express as px"
   ]
  },
  {
   "cell_type": "code",
   "execution_count": 101,
   "id": "93dc0a74-9e03-4498-bb23-d27c097de9d7",
   "metadata": {},
   "outputs": [],
   "source": [
    "info_dataset_path = '../1000_cleaning/output/1320_crime_population_by_year_dataset.csv'\n",
    "map_dataset_path = '../1000_cleaning/output/1410_map_dataset.geojson'\n",
    "combined_dataset_path = 'output/2100_combined_dataset.geojson'\n",
    "animated_graph_path = 'output/2100_RQ1_animated_by_year_1.html'"
   ]
  },
  {
   "cell_type": "code",
   "execution_count": 99,
   "id": "ba726156-1f30-4b17-9d9c-9b787650da01",
   "metadata": {},
   "outputs": [
    {
     "data": {
      "text/plain": [
       "(494, 4)"
      ]
     },
     "execution_count": 99,
     "metadata": {},
     "output_type": "execute_result"
    }
   ],
   "source": [
    "info_dataset = pd.read_csv(info_dataset_path)\n",
    "info_dataset.shape"
   ]
  },
  {
   "cell_type": "code",
   "execution_count": 109,
   "id": "02f43ea2-9b78-43a0-9da1-bb9e3fa5c7b8",
   "metadata": {},
   "outputs": [
    {
     "data": {
      "text/plain": [
       "(26, 2)"
      ]
     },
     "execution_count": 109,
     "metadata": {},
     "output_type": "execute_result"
    }
   ],
   "source": [
    "map_dataset = gpd.read_file(map_dataset_path)\n",
    "map_dataset.shape"
   ]
  },
  {
   "cell_type": "code",
   "execution_count": 110,
   "id": "1cebb381-3b60-4d58-ab9e-2e19d8619c61",
   "metadata": {},
   "outputs": [
    {
     "data": {
      "text/plain": [
       "(494, 5)"
      ]
     },
     "execution_count": 110,
     "metadata": {},
     "output_type": "execute_result"
    }
   ],
   "source": [
    "dataset = gpd.GeoDataFrame(info_dataset.set_index('County').join(map_dataset.set_index('County'),how='inner').reset_index(names=['County']))\n",
    "dataset.shape"
   ]
  },
  {
   "cell_type": "code",
   "execution_count": 111,
   "id": "186e2515-4184-4048-9389-eb38e18aa5b4",
   "metadata": {},
   "outputs": [
    {
     "data": {
      "text/plain": [
       "(494, 6)"
      ]
     },
     "execution_count": 111,
     "metadata": {},
     "output_type": "execute_result"
    }
   ],
   "source": [
    "dataset['Occurrences by population'] = dataset['Occurrences']/dataset['Population']\n",
    "dataset.shape"
   ]
  },
  {
   "cell_type": "code",
   "execution_count": 112,
   "id": "1dc0a58e-1120-4f45-babe-b0b907505c10",
   "metadata": {},
   "outputs": [],
   "source": [
    "dataset=dataset.set_index('County') #only run once"
   ]
  },
  {
   "cell_type": "code",
   "execution_count": 115,
   "id": "2085b26d-d8f9-40ea-950e-b22951d39a35",
   "metadata": {},
   "outputs": [
    {
     "name": "stdout",
     "output_type": "stream",
     "text": [
      "Saved animated graph\n"
     ]
    }
   ],
   "source": [
    "fig = px.choropleth(dataset,\n",
    "                        geojson=dataset.geometry,\n",
    "                        locations=dataset.index,\n",
    "                        color=\"Occurrences\",\n",
    "                        color_continuous_scale='Reds',\n",
    "                        title='Total crime rate by population',\n",
    "                        width=600,\n",
    "                        height=600,\n",
    "                        projection='mercator',\n",
    "                        hover_data=['Population'],\n",
    "                        animation_frame='Year',\n",
    "                        animation_group=dataset.index\n",
    "                   )\n",
    "fig.update_geos(fitbounds=\"locations\", visible=False)\n",
    "fig.write_html('output/graph2.html',auto_open=True)\n",
    "print(\"Saved animated graph\")"
   ]
  }
 ],
 "metadata": {
  "kernelspec": {
   "display_name": "Python 3 (ipykernel)",
   "language": "python",
   "name": "python3"
  },
  "language_info": {
   "codemirror_mode": {
    "name": "ipython",
    "version": 3
   },
   "file_extension": ".py",
   "mimetype": "text/x-python",
   "name": "python",
   "nbconvert_exporter": "python",
   "pygments_lexer": "ipython3",
   "version": "3.8.16"
  }
 },
 "nbformat": 4,
 "nbformat_minor": 5
}
