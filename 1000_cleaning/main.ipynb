{
 "cells": [
  {
   "cell_type": "code",
   "execution_count": 20,
   "id": "c0f61eac-62de-451c-881b-dd777d6bf4de",
   "metadata": {},
   "outputs": [],
   "source": [
    "import pandas as pd\n",
    "import numpy as np\n",
    "import re\n",
    "import requests"
   ]
  },
  {
   "cell_type": "code",
   "execution_count": 48,
   "id": "afa51af3-f4d3-4d8f-8d1d-79645990aa38",
   "metadata": {},
   "outputs": [],
   "source": [
    "dataset_path = '1000_cleaning/output/1000_downloaded_dataset.csv'\n",
    "cleaned_dataset_path = '1000_cleaning/output/1000_cleaning.csv'\n",
    "total_occurrences_by_division_path = '1000_cleaning/output/1000_total_occurrences_by_division.csv'"
   ]
  },
  {
   "cell_type": "markdown",
   "id": "34af9ed0-3e27-4a64-94f9-c402d0edd31c",
   "metadata": {
    "tags": []
   },
   "source": [
    "# Downloading the dataset\n",
    "\n",
    "The dataset we are using comes from the [Central Statistics Office of Ireland](cso.ie)\n",
    "\n",
    "The information we will be using from this dataset is:\n",
    "* `Year`\n",
    "* `County/Garda Station Division`\n",
    "* `Type of offence`\n",
    "* `Number of occurences`\n",
    "\n",
    "Aswell as the index of a crime relative to its garda station called `Crime Index`"
   ]
  },
  {
   "cell_type": "code",
   "execution_count": null,
   "id": "61951751-0ab3-42e4-ad9f-36d48c3b34af",
   "metadata": {},
   "outputs": [],
   "source": [
    "url = 'https://ws.cso.ie/public/api.restful/PxStat.Data.Cube_API.ReadDataset/CJA07/CSV/1.0/'\n",
    "r = requests.get(url, allow_redirects=True)\n",
    "open(dataset_path, 'wb').write(r.content)"
   ]
  },
  {
   "cell_type": "markdown",
   "id": "7e98dc84-cb55-40a6-a1dc-ca1e8fe4ec27",
   "metadata": {
    "tags": []
   },
   "source": [
    "# Cleaning the dataset\n",
    "\n",
    "We need to remove any columns that have useless data, aswell as rename some of the poorly named columns for better readability later on.\n",
    "\n",
    "Every cell in crime index gets subtracted by `3` to bring it into a more usable index range. *0-12 instead of 3-15*\n",
    "\n",
    "The final lambda changes the cells in `Garda Station` from `[Station ID] [Town], [County] Division` to `[County] Division`, since we will not be using the `[Town]` or `[Station ID]` "
   ]
  },
  {
   "cell_type": "code",
   "execution_count": 39,
   "id": "d6c6cacb-68ce-41a9-9a7a-0d0fa7455ee2",
   "metadata": {},
   "outputs": [],
   "source": [
    "dataset = pd.read_csv(dataset_path)\n",
    "dataset = dataset.drop(columns=['STATISTIC', 'STATISTIC Label','UNIT','TLIST(A1)','C03037V03742'],axis=4)\n",
    "dataset = dataset.rename(columns={'C02480V03003': 'Crime Index', 'VALUE': 'Occurrences'})\n",
    "dataset['Crime Index'] = dataset['Crime Index'] - 3\n",
    "dataset['Garda Station'] = dataset['Garda Station'].apply(lambda x: re.search('\\s([^,]+$)',x).group(1))"
   ]
  },
  {
   "cell_type": "code",
   "execution_count": 40,
   "id": "8e8e21de-3954-4937-9ee4-8a382669eaee",
   "metadata": {},
   "outputs": [
    {
     "data": {
      "text/html": [
       "<div>\n",
       "<style scoped>\n",
       "    .dataframe tbody tr th:only-of-type {\n",
       "        vertical-align: middle;\n",
       "    }\n",
       "\n",
       "    .dataframe tbody tr th {\n",
       "        vertical-align: top;\n",
       "    }\n",
       "\n",
       "    .dataframe thead th {\n",
       "        text-align: right;\n",
       "    }\n",
       "</style>\n",
       "<table border=\"1\" class=\"dataframe\">\n",
       "  <thead>\n",
       "    <tr style=\"text-align: right;\">\n",
       "      <th></th>\n",
       "      <th>Year</th>\n",
       "      <th>Garda Station</th>\n",
       "      <th>Crime Index</th>\n",
       "      <th>Type of Offence</th>\n",
       "      <th>Occurrences</th>\n",
       "    </tr>\n",
       "  </thead>\n",
       "  <tbody>\n",
       "    <tr>\n",
       "      <th>0</th>\n",
       "      <td>2003</td>\n",
       "      <td>Limerick Division</td>\n",
       "      <td>0</td>\n",
       "      <td>Attempts/threats to murder, assaults, harassme...</td>\n",
       "      <td>18</td>\n",
       "    </tr>\n",
       "    <tr>\n",
       "      <th>1</th>\n",
       "      <td>2003</td>\n",
       "      <td>Limerick Division</td>\n",
       "      <td>1</td>\n",
       "      <td>Dangerous or negligent acts</td>\n",
       "      <td>14</td>\n",
       "    </tr>\n",
       "    <tr>\n",
       "      <th>2</th>\n",
       "      <td>2003</td>\n",
       "      <td>Limerick Division</td>\n",
       "      <td>2</td>\n",
       "      <td>Kidnapping and related offences</td>\n",
       "      <td>0</td>\n",
       "    </tr>\n",
       "    <tr>\n",
       "      <th>3</th>\n",
       "      <td>2003</td>\n",
       "      <td>Limerick Division</td>\n",
       "      <td>3</td>\n",
       "      <td>Robbery, extortion and hijacking offences</td>\n",
       "      <td>0</td>\n",
       "    </tr>\n",
       "    <tr>\n",
       "      <th>4</th>\n",
       "      <td>2003</td>\n",
       "      <td>Limerick Division</td>\n",
       "      <td>4</td>\n",
       "      <td>Burglary and related offences</td>\n",
       "      <td>27</td>\n",
       "    </tr>\n",
       "  </tbody>\n",
       "</table>\n",
       "</div>"
      ],
      "text/plain": [
       "   Year      Garda Station  Crime Index  \\\n",
       "0  2003  Limerick Division            0   \n",
       "1  2003  Limerick Division            1   \n",
       "2  2003  Limerick Division            2   \n",
       "3  2003  Limerick Division            3   \n",
       "4  2003  Limerick Division            4   \n",
       "\n",
       "                                     Type of Offence  Occurrences  \n",
       "0  Attempts/threats to murder, assaults, harassme...           18  \n",
       "1                        Dangerous or negligent acts           14  \n",
       "2                    Kidnapping and related offences            0  \n",
       "3          Robbery, extortion and hijacking offences            0  \n",
       "4                      Burglary and related offences           27  "
      ]
     },
     "execution_count": 40,
     "metadata": {},
     "output_type": "execute_result"
    }
   ],
   "source": [
    "dataset.head()"
   ]
  },
  {
   "cell_type": "code",
   "execution_count": null,
   "id": "19ebac08-6639-4d54-98a9-e5f02e490a71",
   "metadata": {},
   "outputs": [],
   "source": [
    "sums = dataset.groupby(by='Garda Station')['Occurrences'].sum()"
   ]
  },
  {
   "cell_type": "code",
   "execution_count": 29,
   "id": "a2147299-9c27-402f-b7e2-c54e2a53ffdf",
   "metadata": {},
   "outputs": [
    {
     "data": {
      "text/plain": [
       "Garda Station\n",
       "Cavan/Monaghan Division    102052\n",
       "Clare Division              78677\n",
       "Cork City Division         264864\n",
       "Cork North Division         89914\n",
       "Cork West Division          63400\n",
       "Name: Occurrences, dtype: int64"
      ]
     },
     "execution_count": 29,
     "metadata": {},
     "output_type": "execute_result"
    }
   ],
   "source": [
    "sums.head()"
   ]
  },
  {
   "cell_type": "code",
   "execution_count": 49,
   "id": "dbdbe517-2b6e-4ccb-9820-7c4e338e630c",
   "metadata": {},
   "outputs": [],
   "source": [
    "dataset.to_csv(cleaned_dataset_path)\n",
    "sums.to_csv(total_occurrences_by_division_path)"
   ]
  },
  {
   "cell_type": "code",
   "execution_count": null,
   "id": "2c1239da-3aff-4bac-b49b-224da126af4f",
   "metadata": {},
   "outputs": [],
   "source": []
  }
 ],
 "metadata": {
  "kernelspec": {
   "display_name": "Python 3 (ipykernel)",
   "language": "python",
   "name": "python3"
  },
  "language_info": {
   "codemirror_mode": {
    "name": "ipython",
    "version": 3
   },
   "file_extension": ".py",
   "mimetype": "text/x-python",
   "name": "python",
   "nbconvert_exporter": "python",
   "pygments_lexer": "ipython3",
   "version": "3.10.9"
  }
 },
 "nbformat": 4,
 "nbformat_minor": 5
}
