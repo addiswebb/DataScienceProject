{
 "cells": [
  {
   "cell_type": "code",
   "execution_count": 2,
   "id": "7a983dec-67bd-4400-8d2d-d5f5e0a65496",
   "metadata": {},
   "outputs": [],
   "source": [
    "import pandas as pd"
   ]
  },
  {
   "cell_type": "code",
   "execution_count": 34,
   "id": "08ed8d21-c276-4c99-b8eb-2e6db53df565",
   "metadata": {},
   "outputs": [],
   "source": [
    "crime_dataset_path = 'output/1000_total_occurrences_by_division.csv'\n",
    "crime_by_year_dataset_path = 'output/1000_total_occurrennces_by_county_year.csv'\n",
    "population_dataset_path = 'output/1200_cleaned_population_dataset.csv'\n",
    "combined_dataset_path = 'output/1310_crime_population_dataset.csv'\n",
    "combined_by_year_dataset_path = 'output/1320_crime_population_by_year_dataset.csv'"
   ]
  },
  {
   "cell_type": "code",
   "execution_count": 35,
   "id": "21956ec6-0d3a-4b9e-bdde-002a57c96d6a",
   "metadata": {},
   "outputs": [],
   "source": [
    "crime_dataset = pd.read_csv(crime_dataset_path)\n",
    "crime_by_year_dataset = pd.read_csv(crime_by_year_dataset_path)\n",
    "population_dataset = pd.read_csv(population_dataset_path)"
   ]
  },
  {
   "cell_type": "code",
   "execution_count": 36,
   "id": "1bef9eff-4e56-4652-8acf-92bc00477100",
   "metadata": {},
   "outputs": [
    {
     "data": {
      "text/plain": [
       "(26, 3)"
      ]
     },
     "execution_count": 36,
     "metadata": {},
     "output_type": "execute_result"
    }
   ],
   "source": [
    "dataset = crime_dataset.set_index('County').join(population_dataset.set_index('County'),how='left').reset_index(names=['County'])\n",
    "dataset.shape"
   ]
  },
  {
   "cell_type": "code",
   "execution_count": 37,
   "id": "efb4923d-3d78-486d-9e98-3a22253c1d0c",
   "metadata": {},
   "outputs": [
    {
     "data": {
      "text/plain": [
       "(494, 4)"
      ]
     },
     "execution_count": 37,
     "metadata": {},
     "output_type": "execute_result"
    }
   ],
   "source": [
    "dataset_by_year = crime_by_year_dataset.set_index('County').join(population_dataset.set_index('County'),how='left').reset_index(names=['County'])\n",
    "dataset_by_year.shape"
   ]
  },
  {
   "cell_type": "code",
   "execution_count": 38,
   "id": "06051456-647b-41db-a8e3-c8454cf0742c",
   "metadata": {},
   "outputs": [
    {
     "name": "stdout",
     "output_type": "stream",
     "text": [
      "Saved to: output/1310_crime_population_dataset.csv\n"
     ]
    }
   ],
   "source": [
    "dataset.to_csv(combined_dataset_path, index=False)\n",
    "dataset_by_year.to_csv(combined_by_year_dataset_path,index=False)\n",
    "print(\"Saved to: \"+combined_dataset_path)"
   ]
  }
 ],
 "metadata": {
  "kernelspec": {
   "display_name": "Python 3 (ipykernel)",
   "language": "python",
   "name": "python3"
  },
  "language_info": {
   "codemirror_mode": {
    "name": "ipython",
    "version": 3
   },
   "file_extension": ".py",
   "mimetype": "text/x-python",
   "name": "python",
   "nbconvert_exporter": "python",
   "pygments_lexer": "ipython3",
   "version": "3.11.0"
  }
 },
 "nbformat": 4,
 "nbformat_minor": 5
}
