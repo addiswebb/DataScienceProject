{
 "cells": [
  {
   "cell_type": "code",
   "execution_count": 20,
   "id": "75a9bd51-8481-4413-bfc8-150ea3c526cf",
   "metadata": {},
   "outputs": [],
   "source": [
    "import pandas as pd\n",
    "import numpy as np\n",
    "import requests\n",
    "import json"
   ]
  },
  {
   "cell_type": "code",
   "execution_count": 7,
   "id": "bc760e81-024e-41c3-b7a3-42ef784369aa",
   "metadata": {},
   "outputs": [],
   "source": [
    "dataset_path = 'output/1000_population_dataset.csv'\n",
    "download_path = 'output/1000_downloaded_population_dataset.csv'\n",
    "cleaned_dataset_path = 'output/1200_cleaned_population_dataset.csv'"
   ]
  },
  {
   "cell_type": "code",
   "execution_count": 133,
   "id": "fa501f0a-43b0-4043-898c-1548fe9f5ad1",
   "metadata": {},
   "outputs": [
    {
     "data": {
      "text/html": [
       "<div>\n",
       "<style scoped>\n",
       "    .dataframe tbody tr th:only-of-type {\n",
       "        vertical-align: middle;\n",
       "    }\n",
       "\n",
       "    .dataframe tbody tr th {\n",
       "        vertical-align: top;\n",
       "    }\n",
       "\n",
       "    .dataframe thead th {\n",
       "        text-align: right;\n",
       "    }\n",
       "</style>\n",
       "<table border=\"1\" class=\"dataframe\">\n",
       "  <thead>\n",
       "    <tr style=\"text-align: right;\">\n",
       "      <th></th>\n",
       "      <th>County</th>\n",
       "      <th>Religion</th>\n",
       "      <th>CensusYear</th>\n",
       "      <th>Statistic Label</th>\n",
       "      <th>UNIT</th>\n",
       "      <th>VALUE</th>\n",
       "    </tr>\n",
       "  </thead>\n",
       "  <tbody>\n",
       "    <tr>\n",
       "      <th>0</th>\n",
       "      <td>State</td>\n",
       "      <td>Roman Catholic</td>\n",
       "      <td>1891</td>\n",
       "      <td>Population</td>\n",
       "      <td>Number</td>\n",
       "      <td>3099003.0</td>\n",
       "    </tr>\n",
       "    <tr>\n",
       "      <th>1</th>\n",
       "      <td>State</td>\n",
       "      <td>Roman Catholic</td>\n",
       "      <td>1891</td>\n",
       "      <td>Actual change since previous census</td>\n",
       "      <td>Number</td>\n",
       "      <td>0.0</td>\n",
       "    </tr>\n",
       "    <tr>\n",
       "      <th>2</th>\n",
       "      <td>State</td>\n",
       "      <td>Roman Catholic</td>\n",
       "      <td>1891</td>\n",
       "      <td>Percentage change since previous census</td>\n",
       "      <td>%</td>\n",
       "      <td>0.0</td>\n",
       "    </tr>\n",
       "    <tr>\n",
       "      <th>3</th>\n",
       "      <td>State</td>\n",
       "      <td>Roman Catholic</td>\n",
       "      <td>1901</td>\n",
       "      <td>Population</td>\n",
       "      <td>Number</td>\n",
       "      <td>2878271.0</td>\n",
       "    </tr>\n",
       "    <tr>\n",
       "      <th>4</th>\n",
       "      <td>State</td>\n",
       "      <td>Roman Catholic</td>\n",
       "      <td>1901</td>\n",
       "      <td>Actual change since previous census</td>\n",
       "      <td>Number</td>\n",
       "      <td>-220732.0</td>\n",
       "    </tr>\n",
       "  </tbody>\n",
       "</table>\n",
       "</div>"
      ],
      "text/plain": [
       "  County        Religion  CensusYear                          Statistic Label  \\\n",
       "0  State  Roman Catholic        1891                               Population   \n",
       "1  State  Roman Catholic        1891      Actual change since previous census   \n",
       "2  State  Roman Catholic        1891  Percentage change since previous census   \n",
       "3  State  Roman Catholic        1901                               Population   \n",
       "4  State  Roman Catholic        1901      Actual change since previous census   \n",
       "\n",
       "     UNIT      VALUE  \n",
       "0  Number  3099003.0  \n",
       "1  Number        0.0  \n",
       "2       %        0.0  \n",
       "3  Number  2878271.0  \n",
       "4  Number  -220732.0  "
      ]
     },
     "execution_count": 133,
     "metadata": {},
     "output_type": "execute_result"
    }
   ],
   "source": [
    "dataset = pd.read_csv(download_path)\n",
    "dataset.head()"
   ]
  },
  {
   "cell_type": "code",
   "execution_count": 134,
   "id": "04e3d608-b08e-49a9-a82c-fdc37af6d0e3",
   "metadata": {},
   "outputs": [
    {
     "data": {
      "text/html": [
       "<div>\n",
       "<style scoped>\n",
       "    .dataframe tbody tr th:only-of-type {\n",
       "        vertical-align: middle;\n",
       "    }\n",
       "\n",
       "    .dataframe tbody tr th {\n",
       "        vertical-align: top;\n",
       "    }\n",
       "\n",
       "    .dataframe thead th {\n",
       "        text-align: right;\n",
       "    }\n",
       "</style>\n",
       "<table border=\"1\" class=\"dataframe\">\n",
       "  <thead>\n",
       "    <tr style=\"text-align: right;\">\n",
       "      <th></th>\n",
       "      <th>County</th>\n",
       "      <th>Religion</th>\n",
       "      <th>CensusYear</th>\n",
       "      <th>Statistic Label</th>\n",
       "      <th>UNIT</th>\n",
       "      <th>VALUE</th>\n",
       "    </tr>\n",
       "  </thead>\n",
       "  <tbody>\n",
       "    <tr>\n",
       "      <th>39</th>\n",
       "      <td>State</td>\n",
       "      <td>Roman Catholic</td>\n",
       "      <td>2016</td>\n",
       "      <td>Population</td>\n",
       "      <td>Number</td>\n",
       "      <td>3729115.0</td>\n",
       "    </tr>\n",
       "    <tr>\n",
       "      <th>81</th>\n",
       "      <td>State</td>\n",
       "      <td>Church of Ireland (incl. Protestant)</td>\n",
       "      <td>2016</td>\n",
       "      <td>Population</td>\n",
       "      <td>Number</td>\n",
       "      <td>131823.0</td>\n",
       "    </tr>\n",
       "    <tr>\n",
       "      <th>123</th>\n",
       "      <td>State</td>\n",
       "      <td>Presbyterian</td>\n",
       "      <td>2016</td>\n",
       "      <td>Population</td>\n",
       "      <td>Number</td>\n",
       "      <td>24211.0</td>\n",
       "    </tr>\n",
       "    <tr>\n",
       "      <th>165</th>\n",
       "      <td>State</td>\n",
       "      <td>Methodist, Wesleyan</td>\n",
       "      <td>2016</td>\n",
       "      <td>Population</td>\n",
       "      <td>Number</td>\n",
       "      <td>6471.0</td>\n",
       "    </tr>\n",
       "    <tr>\n",
       "      <th>207</th>\n",
       "      <td>State</td>\n",
       "      <td>Jewish</td>\n",
       "      <td>2016</td>\n",
       "      <td>Population</td>\n",
       "      <td>Number</td>\n",
       "      <td>2557.0</td>\n",
       "    </tr>\n",
       "  </tbody>\n",
       "</table>\n",
       "</div>"
      ],
      "text/plain": [
       "    County                              Religion  CensusYear Statistic Label  \\\n",
       "39   State                        Roman Catholic        2016      Population   \n",
       "81   State  Church of Ireland (incl. Protestant)        2016      Population   \n",
       "123  State                          Presbyterian        2016      Population   \n",
       "165  State                   Methodist, Wesleyan        2016      Population   \n",
       "207  State                                Jewish        2016      Population   \n",
       "\n",
       "       UNIT      VALUE  \n",
       "39   Number  3729115.0  \n",
       "81   Number   131823.0  \n",
       "123  Number    24211.0  \n",
       "165  Number     6471.0  \n",
       "207  Number     2557.0  "
      ]
     },
     "execution_count": 134,
     "metadata": {},
     "output_type": "execute_result"
    }
   ],
   "source": [
    "dataset = dataset[dataset['CensusYear']==2016]\n",
    "dataset = dataset[dataset['Statistic Label']=='Population']\n",
    "dataset.head()"
   ]
  },
  {
   "cell_type": "code",
   "execution_count": 90,
   "id": "bc05c7d1-85ce-413a-ae98-620c9c10be9c",
   "metadata": {},
   "outputs": [
    {
     "data": {
      "text/html": [
       "<div>\n",
       "<style scoped>\n",
       "    .dataframe tbody tr th:only-of-type {\n",
       "        vertical-align: middle;\n",
       "    }\n",
       "\n",
       "    .dataframe tbody tr th {\n",
       "        vertical-align: top;\n",
       "    }\n",
       "\n",
       "    .dataframe thead th {\n",
       "        text-align: right;\n",
       "    }\n",
       "</style>\n",
       "<table border=\"1\" class=\"dataframe\">\n",
       "  <thead>\n",
       "    <tr style=\"text-align: right;\">\n",
       "      <th></th>\n",
       "      <th>County</th>\n",
       "      <th>Religion</th>\n",
       "      <th>CensusYear</th>\n",
       "      <th>Statistic Label</th>\n",
       "      <th>UNIT</th>\n",
       "      <th>VALUE</th>\n",
       "    </tr>\n",
       "  </thead>\n",
       "  <tbody>\n",
       "  </tbody>\n",
       "</table>\n",
       "</div>"
      ],
      "text/plain": [
       "Empty DataFrame\n",
       "Columns: [County, Religion, CensusYear, Statistic Label, UNIT, VALUE]\n",
       "Index: []"
      ]
     },
     "execution_count": 90,
     "metadata": {},
     "output_type": "execute_result"
    }
   ],
   "source": [
    "dataset[dataset['UNIT']!='Number'] #Make sure that all population data is in the same unit"
   ]
  },
  {
   "cell_type": "code",
   "execution_count": 135,
   "id": "be3cc776-402d-4d1a-9f4b-fb68d6b0fc19",
   "metadata": {},
   "outputs": [],
   "source": [
    "dataset = dataset.drop(columns=['UNIT','CensusYear','Statistic Label'],axis=1).rename(columns={'VALUE':'Population'})"
   ]
  },
  {
   "cell_type": "markdown",
   "id": "f76b1924-056d-40ff-9fd7-e4e223ce3639",
   "metadata": {},
   "source": [
    "# Split dataset \n",
    "We are going to split this dataset into one with populatio by county and one by religion aswell"
   ]
  },
  {
   "cell_type": "code",
   "execution_count": 117,
   "id": "607271ac-cd09-4983-8134-921e65731a6a",
   "metadata": {},
   "outputs": [
    {
     "data": {
      "text/html": [
       "<div>\n",
       "<style scoped>\n",
       "    .dataframe tbody tr th:only-of-type {\n",
       "        vertical-align: middle;\n",
       "    }\n",
       "\n",
       "    .dataframe tbody tr th {\n",
       "        vertical-align: top;\n",
       "    }\n",
       "\n",
       "    .dataframe thead th {\n",
       "        text-align: right;\n",
       "    }\n",
       "</style>\n",
       "<table border=\"1\" class=\"dataframe\">\n",
       "  <thead>\n",
       "    <tr style=\"text-align: right;\">\n",
       "      <th></th>\n",
       "      <th>Religion</th>\n",
       "      <th>Population</th>\n",
       "    </tr>\n",
       "  </thead>\n",
       "  <tbody>\n",
       "    <tr>\n",
       "      <th>0</th>\n",
       "      <td>Roman Catholic</td>\n",
       "      <td>3729115.0</td>\n",
       "    </tr>\n",
       "    <tr>\n",
       "      <th>1</th>\n",
       "      <td>Church of Ireland (incl. Protestant)</td>\n",
       "      <td>131823.0</td>\n",
       "    </tr>\n",
       "    <tr>\n",
       "      <th>2</th>\n",
       "      <td>Presbyterian</td>\n",
       "      <td>24211.0</td>\n",
       "    </tr>\n",
       "    <tr>\n",
       "      <th>3</th>\n",
       "      <td>Methodist, Wesleyan</td>\n",
       "      <td>6471.0</td>\n",
       "    </tr>\n",
       "    <tr>\n",
       "      <th>4</th>\n",
       "      <td>Jewish</td>\n",
       "      <td>2557.0</td>\n",
       "    </tr>\n",
       "    <tr>\n",
       "      <th>5</th>\n",
       "      <td>Other stated religion (nec)</td>\n",
       "      <td>273993.0</td>\n",
       "    </tr>\n",
       "    <tr>\n",
       "      <th>6</th>\n",
       "      <td>No religion</td>\n",
       "      <td>468421.0</td>\n",
       "    </tr>\n",
       "    <tr>\n",
       "      <th>7</th>\n",
       "      <td>Not stated</td>\n",
       "      <td>125274.0</td>\n",
       "    </tr>\n",
       "    <tr>\n",
       "      <th>8</th>\n",
       "      <td>All religions</td>\n",
       "      <td>4761865.0</td>\n",
       "    </tr>\n",
       "  </tbody>\n",
       "</table>\n",
       "</div>"
      ],
      "text/plain": [
       "                               Religion  Population\n",
       "0                        Roman Catholic   3729115.0\n",
       "1  Church of Ireland (incl. Protestant)    131823.0\n",
       "2                          Presbyterian     24211.0\n",
       "3                   Methodist, Wesleyan      6471.0\n",
       "4                                Jewish      2557.0\n",
       "5           Other stated religion (nec)    273993.0\n",
       "6                           No religion    468421.0\n",
       "7                            Not stated    125274.0\n",
       "8                         All religions   4761865.0"
      ]
     },
     "execution_count": 117,
     "metadata": {},
     "output_type": "execute_result"
    }
   ],
   "source": [
    "dataset_by_religion = dataset[dataset['County'] =='State']\n",
    "dataset_by_religion = dataset_by_religion.reset_index().drop(columns=['index','County'],axis=1)\n",
    "dataset_by_religion"
   ]
  },
  {
   "cell_type": "code",
   "execution_count": 142,
   "id": "9637aaf5-b336-40bb-abae-31ccf9806bc7",
   "metadata": {
    "tags": []
   },
   "outputs": [
    {
     "data": {
      "text/html": [
       "<div>\n",
       "<style scoped>\n",
       "    .dataframe tbody tr th:only-of-type {\n",
       "        vertical-align: middle;\n",
       "    }\n",
       "\n",
       "    .dataframe tbody tr th {\n",
       "        vertical-align: top;\n",
       "    }\n",
       "\n",
       "    .dataframe thead th {\n",
       "        text-align: right;\n",
       "    }\n",
       "</style>\n",
       "<table border=\"1\" class=\"dataframe\">\n",
       "  <thead>\n",
       "    <tr style=\"text-align: right;\">\n",
       "      <th></th>\n",
       "      <th>County</th>\n",
       "      <th>Population</th>\n",
       "    </tr>\n",
       "  </thead>\n",
       "  <tbody>\n",
       "    <tr>\n",
       "      <th>0</th>\n",
       "      <td>Carlow</td>\n",
       "      <td>56932.0</td>\n",
       "    </tr>\n",
       "    <tr>\n",
       "      <th>1</th>\n",
       "      <td>Dublin</td>\n",
       "      <td>1347359.0</td>\n",
       "    </tr>\n",
       "    <tr>\n",
       "      <th>2</th>\n",
       "      <td>Kildare</td>\n",
       "      <td>222504.0</td>\n",
       "    </tr>\n",
       "    <tr>\n",
       "      <th>3</th>\n",
       "      <td>Kilkenny</td>\n",
       "      <td>99232.0</td>\n",
       "    </tr>\n",
       "    <tr>\n",
       "      <th>4</th>\n",
       "      <td>Laois</td>\n",
       "      <td>84697.0</td>\n",
       "    </tr>\n",
       "  </tbody>\n",
       "</table>\n",
       "</div>"
      ],
      "text/plain": [
       "     County  Population\n",
       "0    Carlow     56932.0\n",
       "1    Dublin   1347359.0\n",
       "2   Kildare    222504.0\n",
       "3  Kilkenny     99232.0\n",
       "4     Laois     84697.0"
      ]
     },
     "execution_count": 142,
     "metadata": {},
     "output_type": "execute_result"
    }
   ],
   "source": [
    "dataset_by_county = dataset[dataset['County']!='State']\n",
    "dataset_by_county = dataset_by_county[dataset_by_county['Religion'] == 'All religions']\n",
    "dataset_by_county = dataset_by_county.reset_index().drop(columns=['index','Religion'],axis=1)\n",
    "dataset_by_county.head()"
   ]
  },
  {
   "cell_type": "code",
   "execution_count": 143,
   "id": "f10c44be-b89c-4b98-b6ba-f5ea703ac00b",
   "metadata": {},
   "outputs": [
    {
     "name": "stdout",
     "output_type": "stream",
     "text": [
      "Saved to: output/1200_cleaned_population_dataset.csv\n"
     ]
    }
   ],
   "source": [
    "dataset_by_county.to_csv(cleaned_dataset_path,index=False)\n",
    "print(\"Saved to: \"+ cleaned_dataset_path)"
   ]
  }
 ],
 "metadata": {
  "kernelspec": {
   "display_name": "Python 3 (ipykernel)",
   "language": "python",
   "name": "python3"
  },
  "language_info": {
   "codemirror_mode": {
    "name": "ipython",
    "version": 3
   },
   "file_extension": ".py",
   "mimetype": "text/x-python",
   "name": "python",
   "nbconvert_exporter": "python",
   "pygments_lexer": "ipython3",
   "version": "3.8.16"
  }
 },
 "nbformat": 4,
 "nbformat_minor": 5
}
